{
 "cells": [
  {
   "cell_type": "code",
   "execution_count": null,
   "id": "b9187939",
   "metadata": {},
   "outputs": [],
   "source": [
    "import numpy as np\n",
    "import pandas as pd\n",
    "import matplotlib.pyplot as plt\n",
    "import seaborn as sns"
   ]
  },
  {
   "cell_type": "code",
   "execution_count": null,
   "id": "bd1e6bdd",
   "metadata": {},
   "outputs": [],
   "source": [
    "data = pd.read_csv('./120 Years of Olympic History/athlete_events.csv')"
   ]
  },
  {
   "cell_type": "code",
   "execution_count": null,
   "id": "b41f8a10",
   "metadata": {},
   "outputs": [],
   "source": [
    "data.head()"
   ]
  },
  {
   "cell_type": "code",
   "execution_count": null,
   "id": "d364568c",
   "metadata": {},
   "outputs": [],
   "source": [
    "data.isna().sum()"
   ]
  },
  {
   "cell_type": "code",
   "execution_count": null,
   "id": "a82c2799",
   "metadata": {},
   "outputs": [],
   "source": [
    "data['Medal'].fillna(\"No Medal\", inplace=True)"
   ]
  },
  {
   "cell_type": "code",
   "execution_count": null,
   "id": "4b8e25a5",
   "metadata": {},
   "outputs": [],
   "source": [
    "data.isna().sum()"
   ]
  },
  {
   "cell_type": "code",
   "execution_count": null,
   "id": "d519136e",
   "metadata": {},
   "outputs": [],
   "source": [
    "sns.histplot(data, x='Weight', bins=20)"
   ]
  },
  {
   "cell_type": "code",
   "execution_count": null,
   "id": "db3ee33f",
   "metadata": {},
   "outputs": [],
   "source": [
    "for el in ['Age', 'Height', 'Weight']:\n",
    "    print(f\"Skewness for {el} = {data[el].skew()}\")\n",
    "    skewness = data[el].skew()\n",
    "    if skewness <= 0.5 and skewness >= -0.5:\n",
    "        data[el].fillna(data[el].mean(), inplace=True)\n",
    "    else:\n",
    "        data[el].fillna(data[el].median(), inplace=True)"
   ]
  },
  {
   "cell_type": "code",
   "execution_count": null,
   "id": "8f36c5ff",
   "metadata": {},
   "outputs": [],
   "source": [
    "data.isna().sum()"
   ]
  },
  {
   "cell_type": "code",
   "execution_count": null,
   "id": "b6545a1e",
   "metadata": {},
   "outputs": [],
   "source": [
    "data.info()"
   ]
  },
  {
   "cell_type": "code",
   "execution_count": null,
   "id": "9ac4e3b9",
   "metadata": {},
   "outputs": [],
   "source": [
    "for el in ['Age', 'Height', 'Weight']:\n",
    "    sns.kdeplot(data[el])\n",
    "    plt.show()"
   ]
  },
  {
   "cell_type": "code",
   "execution_count": null,
   "id": "d7d06b97",
   "metadata": {},
   "outputs": [],
   "source": [
    "data.info()"
   ]
  },
  {
   "cell_type": "code",
   "execution_count": null,
   "id": "f7fea13d",
   "metadata": {},
   "outputs": [],
   "source": [
    "print(f\"Max Year = {data['Year'].max()}\\nMin year = {data['Year'].min()}\")"
   ]
  },
  {
   "cell_type": "code",
   "execution_count": null,
   "id": "7bf2145d",
   "metadata": {},
   "outputs": [],
   "source": [
    "for el in ['Age', 'Height', 'Weight']:\n",
    "    sns.boxplot(data[el])\n",
    "    plt.title(el)\n",
    "    plt.show()"
   ]
  },
  {
   "cell_type": "code",
   "execution_count": null,
   "id": "cd85c65f",
   "metadata": {},
   "outputs": [],
   "source": [
    "for el in ['Age', 'Height', 'Weight']:\n",
    "    q1 = np.percentile(data[el], 0.25)\n",
    "    q3 = np.percentile(data[el], 0.75)\n",
    "    \n",
    "    iqr = q3 - q1\n",
    "    \n",
    "    upr = q3 + (1.5*iqr)\n",
    "    lwr = q1 - (1.5*iqr)\n",
    "    \n",
    "    \n",
    "    data[el] = data[el].clip(lwr, upr)"
   ]
  },
  {
   "cell_type": "code",
   "execution_count": null,
   "id": "59d57a17",
   "metadata": {},
   "outputs": [],
   "source": [
    "for el in ['Age', 'Height', 'Weight']:\n",
    "    sns.boxplot(data[el])\n",
    "    plt.title(el)\n",
    "    plt.show()"
   ]
  },
  {
   "cell_type": "code",
   "execution_count": null,
   "id": "0a463fc4",
   "metadata": {},
   "outputs": [],
   "source": [
    "# import pandas as pd\n",
    "\n",
    "# # Create a sample dataframe\n",
    "# data = {'Value': [10, 15, 20, 125, 30, 35, 40, 100, 200, 50, 30, 10, 20, 30, 40, 50]}\n",
    "# df = pd.DataFrame(data)\n",
    "\n",
    "# # Calculate upper and lower limits using IQR\n",
    "# Q1 = np.percentile(df['Value'], 0.25)\n",
    "# Q3 = df['Value'].quantile(0.75)\n",
    "# IQR = Q3 - Q1\n",
    "# lower_limit = Q1 - 1.5 * IQR\n",
    "# upper_limit = Q3 + 1.5 * IQR\n",
    "\n",
    "# # Replace outliers with upper or lower limit\n",
    "# df['Value'] = df['Value'].clip(lower_limit, upper_limit)\n",
    "\n",
    "# # Display the modified dataframe\n",
    "# print(df)"
   ]
  },
  {
   "cell_type": "code",
   "execution_count": null,
   "id": "2def0c26",
   "metadata": {},
   "outputs": [],
   "source": []
  }
 ],
 "metadata": {
  "kernelspec": {
   "display_name": "Python 3 (ipykernel)",
   "language": "python",
   "name": "python3"
  },
  "language_info": {
   "codemirror_mode": {
    "name": "ipython",
    "version": 3
   },
   "file_extension": ".py",
   "mimetype": "text/x-python",
   "name": "python",
   "nbconvert_exporter": "python",
   "pygments_lexer": "ipython3",
   "version": "3.10.9"
  }
 },
 "nbformat": 4,
 "nbformat_minor": 5
}
